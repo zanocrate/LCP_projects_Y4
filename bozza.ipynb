{
 "cells": [
  {
   "cell_type": "code",
   "execution_count": 1,
   "id": "16aa9ba0",
   "metadata": {},
   "outputs": [],
   "source": [
    "%matplotlib qt\n",
    "import pandas as pd\n",
    "import numpy as np\n",
    "import matplotlib.pyplot as plt\n",
    "from scipy import linalg as la\n",
    "from scipy import fft \n",
    "from scipy import linalg as la\n",
    "from scipy import signal\n",
    "from scipy import optimize\n",
    "from scipy.optimize import curve_fit\n",
    "from sklearn.decomposition import PCA\n",
    "from sklearn.preprocessing import MinMaxScaler\n",
    "import pywt\n"
   ]
  },
  {
   "cell_type": "code",
   "execution_count": 2,
   "id": "2eae732f",
   "metadata": {},
   "outputs": [
    {
     "name": "stdout",
     "output_type": "stream",
     "text": [
      "Index(['AccX', 'AccY', 'AccZ', 'GyroX', 'GyroY', 'GyroZ'], dtype='object')\n"
     ]
    }
   ],
   "source": [
    "#Il dataframe finale è 'data'\n",
    "DataFrame=pd.read_csv(\"center_sternum.txt\",sep=None,engine='python')\n",
    "DataFrame['time_s'] = np.arange(0,DataFrame.shape[0])/200 # let's construct the time axis, with each sampling separated by a 200th of a second (because sampling rate is 200 Hz)\n",
    "DataFrame=DataFrame.set_index('time_s')\n",
    "\n",
    "df = DataFrame.drop(columns=['Log Mode','Log Freq','Timestamp','MagnX','MagnY','MagnZ','qw','qi','qj','qk'])\n",
    "data = df.loc[9:71].copy()\n",
    "print(data.columns)"
   ]
  },
  {
   "cell_type": "code",
   "execution_count": 3,
   "id": "2d7571ba",
   "metadata": {},
   "outputs": [],
   "source": [
    "#scaling data\n",
    "dataS = pd.DataFrame(MinMaxScaler().fit_transform(data))\n",
    "dataS.columns = ['AccXS', 'AccYS', 'AccZS', 'GyroXS', 'GyroYS', 'GyroZS']\n",
    "#print(dataS)\n",
    "#dataS.plot(y = ['AccXS', 'AccYS', 'AccZS'])\n",
    "accS_columns = ['AccXS', 'AccYS', 'AccZS']\n",
    "gyrS_columns = ['GyroXS', 'GyroYS', 'GyroZS']"
   ]
  },
  {
   "cell_type": "code",
   "execution_count": 4,
   "id": "dc48497f",
   "metadata": {},
   "outputs": [
    {
     "name": "stdout",
     "output_type": "stream",
     "text": [
      "Percentage of variance due to the selected component: 55.64%\n"
     ]
    }
   ],
   "source": [
    "#PCA on accS_columns\n",
    "pca=PCA(n_components=1) # we seek a single signal\n",
    "# X must be (n_samples,n_features)\n",
    "pca.fit(dataS[accS_columns])\n",
    "print(\"Percentage of variance due to the selected component: {:.2%}\".format(pca.explained_variance_ratio_[0]))\n",
    "Acc = pca.transform(dataS[accS_columns]).reshape(-1)"
   ]
  },
  {
   "cell_type": "code",
   "execution_count": 5,
   "id": "de340e9c",
   "metadata": {},
   "outputs": [
    {
     "name": "stdout",
     "output_type": "stream",
     "text": [
      "Percentage of variance due to the selected component: 61.90%\n"
     ]
    }
   ],
   "source": [
    "#PCA on gyrS_columns\n",
    "pca.fit(dataS[gyrS_columns])\n",
    "print(\"Percentage of variance due to the selected component: {:.2%}\".format(pca.explained_variance_ratio_[0]))\n",
    "Gyr = pca.transform(dataS[gyrS_columns]).reshape(-1)"
   ]
  },
  {
   "cell_type": "code",
   "execution_count": 15,
   "id": "babef32b",
   "metadata": {
    "scrolled": true
   },
   "outputs": [
    {
     "name": "stdout",
     "output_type": "stream",
     "text": [
      "12401 12401\n",
      "[0.22578824]\n"
     ]
    }
   ],
   "source": [
    "#%matplotlib notebook\n",
    "#9-th order wavelet transform and fourier transform over Acc\n",
    "db4 = pywt.Wavelet('db4')\n",
    "n = len(Acc)\n",
    "\n",
    "cA9,cD9,cD8,cD7, cD6,cD5, cD4, cD3, cD2, cD1 = pywt.wavedec(Acc, db4, level=9)\n",
    "coefD9 = pywt.upcoef('d',cD9,'db4',take=n, level=9) #sto ricostruendo il segnale partendo esclusivamenente dai coefficienti\n",
    "                                                    #details del livello 9. Se ho capito bene, questa è la cosa giusta da fare, veder anche che succede se metto 'a' anzi che 'd'\n",
    "\n",
    "fft_coefD9 = fft.fft(coefD9)                          #trasformata di fourier del livello 9\n",
    "freq = fft.fftfreq(coefD9.size, d = 1/200)\n",
    "mask = (freq > 0) & (freq < 0.75)\n",
    "power_coefD9 = np.abs(fft_coefD9)[mask]\n",
    "freq = freq[mask]\n",
    "\n",
    "fft_Acc = fft.fft(Acc)                          #trasformata di fourier di Acc\n",
    "power_Acc = np.abs(Acc)[mask]\n",
    "\n",
    "fig, ((ax1,ax2),(ax3,ax4)) = plt.subplots(figsize = (6,6), nrows = 2, ncols = 2)\n",
    "\n",
    "ax1.plot(coefD9, color = 'black')\n",
    "ax3.plot(freq,power_coefD9, color = 'pink')\n",
    "ax2.plot(Acc, color = 'green')\n",
    "ax4.plot(freq,power_Acc, color = 'red')\n",
    "\n",
    "ax1.set_title('9-th level signal')\n",
    "ax2.set_title('Acc')\n",
    "ax3.set_title('9-th level FT')\n",
    "ax4.set_title('Acc FT')\n",
    "\n",
    "ax3.grid(True,linestyle='--')\n",
    "ax4.grid(True,linestyle='--')\n",
    "\n",
    "plt.tight_layout()\n",
    "plt.show();\n",
    "\n",
    "print(coefD9.size,Acc.size)\n",
    "print(freq[power_coefD9 == max(power_coefD9)])"
   ]
  },
  {
   "cell_type": "code",
   "execution_count": 7,
   "id": "bb6d5966",
   "metadata": {},
   "outputs": [
    {
     "name": "stdout",
     "output_type": "stream",
     "text": [
      "[0.19353278 0.22578824 0.29029917]\n"
     ]
    }
   ],
   "source": [
    "#faccio lo stesso su Gyr\n",
    "cA9,cD9,cD8,cD7, cD6,cD5, cD4, cD3, cD2, cD1=pywt.wavedec(Gyr, db4, level=9)\n",
    "coefD9 = pywt.upcoef('d',cD9,'db4',take=n, level=9) #sto ricostruendo il segnale partendo esclusivamenente dai coefficienti\n",
    "                                                    #details del livello 9. Se ho capito bene, questa è la cosa giusta da fare, veder anche che succede se metto 'a' anzi che 'd'\n",
    "\n",
    "fft_coefD9 = fft.fft(coefD9)                          #trasformata di fourier del livello 9\n",
    "freq = fft.fftfreq(coefD9.size, d = 1/200)\n",
    "mask = (freq > 0) & (freq < 1.5)\n",
    "power_coefD9 = np.abs(fft_coefD9)[mask]\n",
    "freq = freq[mask]\n",
    "\n",
    "fft_Acc = fft.fft(Gyr)                          #trasformata di fourier di Gyr\n",
    "power_Acc = np.abs(Gyr)[mask]\n",
    "\n",
    "fig, ((ax1,ax2),(ax3,ax4)) = plt.subplots(figsize = (6,6), nrows = 2, ncols = 2)\n",
    "ax1.plot(coefD9, color = 'black')\n",
    "ax3.plot(freq,power_coefD9, color = 'pink')\n",
    "ax2.plot(Gyr, color = 'green')\n",
    "ax4.plot(freq,power_Acc, color = 'red')\n",
    "plt.tight_layout()\n",
    "plt.show()\n",
    "\n",
    "print(freq[power_coefD9 > 30])"
   ]
  }
 ],
 "metadata": {
  "kernelspec": {
   "display_name": "Python 3",
   "language": "python",
   "name": "python3"
  },
  "language_info": {
   "codemirror_mode": {
    "name": "ipython",
    "version": 3
   },
   "file_extension": ".py",
   "mimetype": "text/x-python",
   "name": "python",
   "nbconvert_exporter": "python",
   "pygments_lexer": "ipython3",
   "version": "3.8.8"
  }
 },
 "nbformat": 4,
 "nbformat_minor": 5
}
